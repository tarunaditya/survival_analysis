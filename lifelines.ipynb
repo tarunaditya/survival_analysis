{
 "cells": [
  {
   "cell_type": "code",
   "execution_count": 154,
   "metadata": {
    "collapsed": true
   },
   "outputs": [],
   "source": [
    "import numpy as np\n",
    "import pandas as pd\n",
    "import matplotlib.pyplot as plt\n",
    "import matplotlib.patches as mpatches #for custom legends\n",
    "import seaborn as sns\n",
    "from lifelines import KaplanMeierFitter #survival analysis library\n",
    "from lifelines.statistics import logrank_test #survival statistical testing\n",
    "from IPython.display import Image\n",
    "from IPython.core.display import HTML \n",
    "%matplotlib inline"
   ]
  },
  {
   "cell_type": "code",
   "execution_count": 155,
   "metadata": {
    "collapsed": true
   },
   "outputs": [],
   "source": [
    "def display_all(df):\n",
    "    with pd.option_context(\"display.max_rows\", 1000): \n",
    "        with pd.option_context(\"display.max_columns\", 1000): \n",
    "            display(df)"
   ]
  },
  {
   "cell_type": "code",
   "execution_count": 3,
   "metadata": {},
   "outputs": [
    {
     "name": "stdout",
     "output_type": "stream",
     "text": [
      "(7043, 21)\n"
     ]
    },
    {
     "data": {
      "text/html": [
       "<div>\n",
       "<style scoped>\n",
       "    .dataframe tbody tr th:only-of-type {\n",
       "        vertical-align: middle;\n",
       "    }\n",
       "\n",
       "    .dataframe tbody tr th {\n",
       "        vertical-align: top;\n",
       "    }\n",
       "\n",
       "    .dataframe thead th {\n",
       "        text-align: right;\n",
       "    }\n",
       "</style>\n",
       "<table border=\"1\" class=\"dataframe\">\n",
       "  <thead>\n",
       "    <tr style=\"text-align: right;\">\n",
       "      <th></th>\n",
       "      <th>7038</th>\n",
       "      <th>7039</th>\n",
       "      <th>7040</th>\n",
       "      <th>7041</th>\n",
       "      <th>7042</th>\n",
       "    </tr>\n",
       "  </thead>\n",
       "  <tbody>\n",
       "    <tr>\n",
       "      <th>customerID</th>\n",
       "      <td>6840-RESVB</td>\n",
       "      <td>2234-XADUH</td>\n",
       "      <td>4801-JZAZL</td>\n",
       "      <td>8361-LTMKD</td>\n",
       "      <td>3186-AJIEK</td>\n",
       "    </tr>\n",
       "    <tr>\n",
       "      <th>gender</th>\n",
       "      <td>Male</td>\n",
       "      <td>Female</td>\n",
       "      <td>Female</td>\n",
       "      <td>Male</td>\n",
       "      <td>Male</td>\n",
       "    </tr>\n",
       "    <tr>\n",
       "      <th>SeniorCitizen</th>\n",
       "      <td>0</td>\n",
       "      <td>0</td>\n",
       "      <td>0</td>\n",
       "      <td>1</td>\n",
       "      <td>0</td>\n",
       "    </tr>\n",
       "    <tr>\n",
       "      <th>Partner</th>\n",
       "      <td>Yes</td>\n",
       "      <td>Yes</td>\n",
       "      <td>Yes</td>\n",
       "      <td>Yes</td>\n",
       "      <td>No</td>\n",
       "    </tr>\n",
       "    <tr>\n",
       "      <th>Dependents</th>\n",
       "      <td>Yes</td>\n",
       "      <td>Yes</td>\n",
       "      <td>Yes</td>\n",
       "      <td>No</td>\n",
       "      <td>No</td>\n",
       "    </tr>\n",
       "    <tr>\n",
       "      <th>tenure</th>\n",
       "      <td>24</td>\n",
       "      <td>72</td>\n",
       "      <td>11</td>\n",
       "      <td>4</td>\n",
       "      <td>66</td>\n",
       "    </tr>\n",
       "    <tr>\n",
       "      <th>PhoneService</th>\n",
       "      <td>Yes</td>\n",
       "      <td>Yes</td>\n",
       "      <td>No</td>\n",
       "      <td>Yes</td>\n",
       "      <td>Yes</td>\n",
       "    </tr>\n",
       "    <tr>\n",
       "      <th>MultipleLines</th>\n",
       "      <td>Yes</td>\n",
       "      <td>Yes</td>\n",
       "      <td>No phone service</td>\n",
       "      <td>Yes</td>\n",
       "      <td>No</td>\n",
       "    </tr>\n",
       "    <tr>\n",
       "      <th>InternetService</th>\n",
       "      <td>DSL</td>\n",
       "      <td>Fiber optic</td>\n",
       "      <td>DSL</td>\n",
       "      <td>Fiber optic</td>\n",
       "      <td>Fiber optic</td>\n",
       "    </tr>\n",
       "    <tr>\n",
       "      <th>OnlineSecurity</th>\n",
       "      <td>Yes</td>\n",
       "      <td>No</td>\n",
       "      <td>Yes</td>\n",
       "      <td>No</td>\n",
       "      <td>Yes</td>\n",
       "    </tr>\n",
       "    <tr>\n",
       "      <th>OnlineBackup</th>\n",
       "      <td>No</td>\n",
       "      <td>Yes</td>\n",
       "      <td>No</td>\n",
       "      <td>No</td>\n",
       "      <td>No</td>\n",
       "    </tr>\n",
       "    <tr>\n",
       "      <th>DeviceProtection</th>\n",
       "      <td>Yes</td>\n",
       "      <td>Yes</td>\n",
       "      <td>No</td>\n",
       "      <td>No</td>\n",
       "      <td>Yes</td>\n",
       "    </tr>\n",
       "    <tr>\n",
       "      <th>TechSupport</th>\n",
       "      <td>Yes</td>\n",
       "      <td>No</td>\n",
       "      <td>No</td>\n",
       "      <td>No</td>\n",
       "      <td>Yes</td>\n",
       "    </tr>\n",
       "    <tr>\n",
       "      <th>StreamingTV</th>\n",
       "      <td>Yes</td>\n",
       "      <td>Yes</td>\n",
       "      <td>No</td>\n",
       "      <td>No</td>\n",
       "      <td>Yes</td>\n",
       "    </tr>\n",
       "    <tr>\n",
       "      <th>StreamingMovies</th>\n",
       "      <td>Yes</td>\n",
       "      <td>Yes</td>\n",
       "      <td>No</td>\n",
       "      <td>No</td>\n",
       "      <td>Yes</td>\n",
       "    </tr>\n",
       "    <tr>\n",
       "      <th>Contract</th>\n",
       "      <td>One year</td>\n",
       "      <td>One year</td>\n",
       "      <td>Month-to-month</td>\n",
       "      <td>Month-to-month</td>\n",
       "      <td>Two year</td>\n",
       "    </tr>\n",
       "    <tr>\n",
       "      <th>PaperlessBilling</th>\n",
       "      <td>Yes</td>\n",
       "      <td>Yes</td>\n",
       "      <td>Yes</td>\n",
       "      <td>Yes</td>\n",
       "      <td>Yes</td>\n",
       "    </tr>\n",
       "    <tr>\n",
       "      <th>PaymentMethod</th>\n",
       "      <td>Mailed check</td>\n",
       "      <td>Credit card (automatic)</td>\n",
       "      <td>Electronic check</td>\n",
       "      <td>Mailed check</td>\n",
       "      <td>Bank transfer (automatic)</td>\n",
       "    </tr>\n",
       "    <tr>\n",
       "      <th>MonthlyCharges</th>\n",
       "      <td>84.8</td>\n",
       "      <td>103.2</td>\n",
       "      <td>29.6</td>\n",
       "      <td>74.4</td>\n",
       "      <td>105.65</td>\n",
       "    </tr>\n",
       "    <tr>\n",
       "      <th>TotalCharges</th>\n",
       "      <td>1990.5</td>\n",
       "      <td>7362.9</td>\n",
       "      <td>346.45</td>\n",
       "      <td>306.6</td>\n",
       "      <td>6844.5</td>\n",
       "    </tr>\n",
       "    <tr>\n",
       "      <th>Churn</th>\n",
       "      <td>No</td>\n",
       "      <td>No</td>\n",
       "      <td>No</td>\n",
       "      <td>Yes</td>\n",
       "      <td>No</td>\n",
       "    </tr>\n",
       "  </tbody>\n",
       "</table>\n",
       "</div>"
      ],
      "text/plain": [
       "                          7038                     7039              7040  \\\n",
       "customerID          6840-RESVB               2234-XADUH        4801-JZAZL   \n",
       "gender                    Male                   Female            Female   \n",
       "SeniorCitizen                0                        0                 0   \n",
       "Partner                    Yes                      Yes               Yes   \n",
       "Dependents                 Yes                      Yes               Yes   \n",
       "tenure                      24                       72                11   \n",
       "PhoneService               Yes                      Yes                No   \n",
       "MultipleLines              Yes                      Yes  No phone service   \n",
       "InternetService            DSL              Fiber optic               DSL   \n",
       "OnlineSecurity             Yes                       No               Yes   \n",
       "OnlineBackup                No                      Yes                No   \n",
       "DeviceProtection           Yes                      Yes                No   \n",
       "TechSupport                Yes                       No                No   \n",
       "StreamingTV                Yes                      Yes                No   \n",
       "StreamingMovies            Yes                      Yes                No   \n",
       "Contract              One year                 One year    Month-to-month   \n",
       "PaperlessBilling           Yes                      Yes               Yes   \n",
       "PaymentMethod     Mailed check  Credit card (automatic)  Electronic check   \n",
       "MonthlyCharges            84.8                    103.2              29.6   \n",
       "TotalCharges            1990.5                   7362.9            346.45   \n",
       "Churn                       No                       No                No   \n",
       "\n",
       "                            7041                       7042  \n",
       "customerID            8361-LTMKD                 3186-AJIEK  \n",
       "gender                      Male                       Male  \n",
       "SeniorCitizen                  1                          0  \n",
       "Partner                      Yes                         No  \n",
       "Dependents                    No                         No  \n",
       "tenure                         4                         66  \n",
       "PhoneService                 Yes                        Yes  \n",
       "MultipleLines                Yes                         No  \n",
       "InternetService      Fiber optic                Fiber optic  \n",
       "OnlineSecurity                No                        Yes  \n",
       "OnlineBackup                  No                         No  \n",
       "DeviceProtection              No                        Yes  \n",
       "TechSupport                   No                        Yes  \n",
       "StreamingTV                   No                        Yes  \n",
       "StreamingMovies               No                        Yes  \n",
       "Contract          Month-to-month                   Two year  \n",
       "PaperlessBilling             Yes                        Yes  \n",
       "PaymentMethod       Mailed check  Bank transfer (automatic)  \n",
       "MonthlyCharges              74.4                     105.65  \n",
       "TotalCharges               306.6                     6844.5  \n",
       "Churn                        Yes                         No  "
      ]
     },
     "metadata": {},
     "output_type": "display_data"
    }
   ],
   "source": [
    "url=\"https://community.watsonanalytics.com/wp-content/uploads/2015/03/WA_Fn-UseC_-Telco-Customer-Churn.csv?cm_mc_uid=51304980933215218170416&cm_mc_sid_50200000=92178841521817041648&cm_mc_sid_52640000=98592221521817041652\"\n",
    "df = pd.read_csv(url)\n",
    "print(df.shape)\n",
    "display_all(df.tail().transpose())"
   ]
  },
  {
   "cell_type": "code",
   "execution_count": 4,
   "metadata": {},
   "outputs": [],
   "source": [
    "df[\"b_Churn\"] = df.Churn.apply(lambda x: 1 if x == \"Yes\" else 0) #recode churn var"
   ]
  },
  {
   "cell_type": "code",
   "execution_count": 5,
   "metadata": {},
   "outputs": [
    {
     "data": {
      "text/plain": [
       "No                  3390\n",
       "Yes                 2971\n",
       "No phone service     682\n",
       "Name: MultipleLines, dtype: int64"
      ]
     },
     "execution_count": 5,
     "metadata": {},
     "output_type": "execute_result"
    }
   ],
   "source": [
    "df.MultipleLines.value_counts()"
   ]
  },
  {
   "cell_type": "code",
   "execution_count": 6,
   "metadata": {},
   "outputs": [],
   "source": [
    "#drop \"No phone service\"\n",
    "df[df.MultipleLines != \"No phone service\"]\n",
    "\n",
    "#recode MultipleLines var to get our two comparison cohorts\n",
    "df[\"b_MultipleLines\"] = df.MultipleLines.apply(lambda x: 1 if x == \"Yes\" else 0)"
   ]
  },
  {
   "cell_type": "code",
   "execution_count": 42,
   "metadata": {},
   "outputs": [
    {
     "data": {
      "text/plain": [
       "count    7043.000000\n",
       "mean       32.371149\n",
       "std        24.559481\n",
       "min         0.000000\n",
       "25%         9.000000\n",
       "50%        29.000000\n",
       "75%        55.000000\n",
       "max        72.000000\n",
       "Name: tenure, dtype: float64"
      ]
     },
     "execution_count": 42,
     "metadata": {},
     "output_type": "execute_result"
    }
   ],
   "source": [
    "#this is not time series data, so we will assume all customers start at t = 0 \n",
    "# and continue until t = tenure\n",
    "df.tenure.describe()"
   ]
  },
  {
   "cell_type": "markdown",
   "metadata": {},
   "source": [
    "# Kaplan-Meier\n",
    "For background, see [Rich et al (2010)](https://www.ncbi.nlm.nih.gov/pmc/articles/PMC3932959/), [Singh et all (2011)](https://www.ncbi.nlm.nih.gov/pmc/articles/PMC3227332/)\n",
    "+ Estimates the “survival function” via the for a cohort of subjects \n",
    "+ Does not provide an estimate of the magnitude of the difference in survival for the cohorts being compared \n",
    "+ Each observation (case, customer) should have one \"birth\" (activation) and one \"death\" (churn)"
   ]
  },
  {
   "cell_type": "code",
   "execution_count": 35,
   "metadata": {},
   "outputs": [],
   "source": [
    "kmf = KaplanMeierFitter()\n",
    "T = df['tenure'] #duration\n",
    "C = df[\"b_Churn\"] #censorship - 1 if death/churn is seen, 0 if censored"
   ]
  },
  {
   "cell_type": "code",
   "execution_count": 157,
   "metadata": {},
   "outputs": [
    {
     "data": {
      "image/png": "[encoded data removed]",
      "text/plain": [
       "<matplotlib.figure.Figure at 0x4e3b69b198>"
      ]
     },
     "metadata": {},
     "output_type": "display_data"
    }
   ],
   "source": [
    "palette = [\"windows blue\", \"amber\"]\n",
    "sns.set_palette(sns.xkcd_palette(palette))\n",
    "\n",
    "##SET UP PLOT\n",
    "ax = plt.subplot(111)\n",
    "plt.title('Kaplan-Meier Estimate of Driver Retention by Multiple Lines')\n",
    "sns.set_context(\"talk\")\n",
    "\n",
    "d={} #to store the models\n",
    "vlines = []\n",
    "i=0\n",
    "\n",
    "##PLOT FITTED GRAPH\n",
    "#loop through segmentation variable, plot on same axes\n",
    "for segment in df.b_MultipleLines.unique(): \n",
    "    ix = df.b_MultipleLines == segment\n",
    "    d['kmf{}'.format(i+1)] = kmf.fit(T.loc[ix],C.loc[ix], label=segment)\n",
    "    ax = kmf.plot(ax=ax, figsize=(12,6))\n",
    "\n",
    "    ax.set_xlim([T.min(),T.max()])\n",
    "    ax.set_ylim([0.5,1])\n",
    "    \n",
    "    y_ = kmf.survival_function_[kmf.survival_function_.round(2) ==.75].dropna().index[0]\n",
    "    ymax_ = kmf.survival_function_[kmf.survival_function_.round(2) ==.75].dropna()[i][y_]\n",
    "    \n",
    "    vlines.append([y_, ymax_])\n",
    "    i+=1\n",
    "\n",
    "##PLOT ANNOTATION\n",
    "#for each intercept, plot a horizontal and a vertical line up to the fitted curve\n",
    "xmin_=0\n",
    "for i, xy in enumerate(vlines):\n",
    "    xmax_ = xy[0]\n",
    "    color=\"xkcd:{}\".format(palette[i])\n",
    "    \n",
    "    plt.axvline(x=xy[0], ymax=.5, alpha=.8, color=color, linestyle='dotted') #axes fractional\n",
    "    plt.hlines(y=.75, xmin=xmin_, xmax=xmax_, alpha=.8, color=color, linestyle='dotted') #axes data coordinates\n",
    "    xmin_ += xmax_ #to avoid overlapping hlines\n",
    "\n",
    "## position text label\n",
    "difference = vlines[1][0]-vlines[0][0]\n",
    "label_frac_x = (vlines[0][0]+(difference)/2)/T.max()-.07 #midpoint (minus .07 centering factor)\n",
    "label_frac_y = 0.2\n",
    "\n",
    "#label first line\n",
    "ax.annotate('Difference:\\n{} Months'.format(difference), \n",
    "  xy=(vlines[0][0],.62), xycoords='data', color='white',\n",
    "  xytext=(label_frac_x,label_frac_y), textcoords='axes fraction',\n",
    "  arrowprops=dict(arrowstyle=\"-|>\", #arrows removed for reability\n",
    "                  fc=\"k\", ec=\"k\")\n",
    "           )\n",
    "\n",
    "#label second line    \n",
    "ax.annotate('Difference:\\n{} Months'.format(difference), \n",
    "      xy=(vlines[1][0],.62), xycoords='data', color='black',\n",
    "      xytext=(label_frac_x, label_frac_y), textcoords='axes fraction',\n",
    "      arrowprops=dict(arrowstyle=\"-|>\", #arrows removed for reability\n",
    "                      fc=\"k\", ec='k')\n",
    "           )\n",
    "\n",
    "##LEGEND\n",
    "#override default legend\n",
    "patches = [ mpatches.Patch(color=\"xkcd:windows blue\", label='Has One Phoneline'),\n",
    "            mpatches.Patch(color=\"xkcd:amber\", label='Has Multiple Phonelines')\n",
    "          ]\n",
    "plt.legend(handles=[patches[0],patches[1]], title=\"User Segmentation\", loc='best');"
   ]
  },
  {
   "cell_type": "markdown",
   "metadata": {},
   "source": [
    "The graph clearly shows that there is a difference in tenure between \"single line\" and \"multiple line\" telco users. Since the confidence interals also appear on the graph, we can see that the difference is statistically significant from t > 0 until approximately t= 52 months, after which the churn rates becomes the same, within the margin of error. \n",
    "\n",
    "Our survival curves do not follow the constant proportionality assumption (they cannot because they cross, and we can also see varying distances between the curves throughout). Conventionally, ths would mean that a logrank test is not an appropriate measure for estimating the hazard ratio. This [presentation by Stone (2015)](http://bbs.ceb-institute.org/wp-content/uploads/2016/06/Andy-Stone-Non-Proportional-Hazards-So-What.pdf) makes a compelling argument that hazard ratios on nonproportionality are still readily interpretable. This has, however, been a source of controversy in the biostatistics field. Alternative methods such as time-splitting have been proposed, see: [Bouliotis &amp; Billingham (2011)](https://www.ncbi.nlm.nih.gov/pmc/articles/PMC3287712/)\n",
    "\n",
    "To get the hazard ratio, we run the logrank test."
   ]
  },
  {
   "cell_type": "code",
   "execution_count": 138,
   "metadata": {},
   "outputs": [
    {
     "name": "stdout",
     "output_type": "stream",
     "text": [
      "\n",
      "df=1, alpha=0.99, null_distribution=chi squared, t_0=-1\n",
      "\n",
      "test_statistic      p     \n",
      "       24.8504 0.0000  ***\n",
      "---\n",
      "Signif. codes:  0 '***' 0.001 '**' 0.01 '*' 0.05 '.' 0.1 ' ' 1 \n"
     ]
    }
   ],
   "source": [
    "multi = (df[\"b_MultipleLines\"] == 1)\n",
    "results = logrank_test(T[multi], T[~multi], C[multi], C[~multi], alpha=0.99 ) #at 99% confidence level\n",
    "results.print_summary()"
   ]
  },
  {
   "cell_type": "code",
   "execution_count": 153,
   "metadata": {},
   "outputs": [
    {
     "data": {
      "text/html": [
       "<img src=\"https://wikimedia.org/api/rest_v1/media/math/render/svg/68750c8d50ac1d055b3ddcc67a05de43b40fdebf\"/>"
      ],
      "text/plain": [
       "<IPython.core.display.Image object>"
      ]
     },
     "execution_count": 153,
     "metadata": {},
     "output_type": "execute_result"
    }
   ],
   "source": [
    "# Image Credit: https://en.wikipedia.org/wiki/Log-rank_test\n",
    "Image(url= \"https://wikimedia.org/api/rest_v1/media/math/render/svg/68750c8d50ac1d055b3ddcc67a05de43b40fdebf\")"
   ]
  },
  {
   "cell_type": "code",
   "execution_count": 152,
   "metadata": {},
   "outputs": [
    {
     "name": "stdout",
     "output_type": "stream",
     "text": [
      "3.15703557409\n"
     ]
    }
   ],
   "source": [
    "Z = results.test_statistic\n",
    "D = C.sum() #number of events observed\n",
    "\n",
    "hazard_ratio = np.exp(Z*np.sqrt(4/D))\n",
    "print(hazard_ratio)"
   ]
  },
  {
   "cell_type": "markdown",
   "metadata": {},
   "source": [
    "Therefore the risk of churn is 3.2 times higher in users with only one phoneline compared to users with multiple lines."
   ]
  },
  {
   "cell_type": "code",
   "execution_count": null,
   "metadata": {
    "collapsed": true
   },
   "outputs": [],
   "source": []
  }
 ],
 "metadata": {
  "kernelspec": {
   "display_name": "Python 3",
   "language": "python",
   "name": "python3"
  },
  "language_info": {
   "codemirror_mode": {
    "name": "ipython",
    "version": 3
   },
   "file_extension": ".py",
   "mimetype": "text/x-python",
   "name": "python",
   "nbconvert_exporter": "python",
   "pygments_lexer": "ipython3",
   "version": "3.5.4"
  }
 },
 "nbformat": 4,
 "nbformat_minor": 2
}
